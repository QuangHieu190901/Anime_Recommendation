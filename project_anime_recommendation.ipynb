{
 "cells": [
  {
   "cell_type": "code",
   "execution_count": 1,
   "metadata": {},
   "outputs": [],
   "source": [
    "import numpy as np\n",
    "import pandas as pd"
   ]
  },
  {
   "cell_type": "code",
   "execution_count": 2,
   "metadata": {},
   "outputs": [],
   "source": [
    "# https://www.kaggle.com/CooperUnion/anime-recommendations-database\n",
    "df_anime = pd.read_csv('anime.csv')\n",
    "df_rating = pd.read_csv('rating.csv')"
   ]
  },
  {
   "cell_type": "code",
   "execution_count": 3,
   "metadata": {},
   "outputs": [
    {
     "name": "stdout",
     "output_type": "stream",
     "text": [
      "(12294, 7)\n",
      "(7813737, 3)\n"
     ]
    }
   ],
   "source": [
    "print(df_anime.shape)\n",
    "print(df_rating.shape)"
   ]
  },
  {
   "cell_type": "code",
   "execution_count": 4,
   "metadata": {},
   "outputs": [
    {
     "name": "stdout",
     "output_type": "stream",
     "text": [
      "<class 'pandas.core.frame.DataFrame'>\n",
      "RangeIndex: 12294 entries, 0 to 12293\n",
      "Data columns (total 7 columns):\n",
      " #   Column    Non-Null Count  Dtype  \n",
      "---  ------    --------------  -----  \n",
      " 0   anime_id  12294 non-null  int64  \n",
      " 1   name      12294 non-null  object \n",
      " 2   genre     12232 non-null  object \n",
      " 3   type      12269 non-null  object \n",
      " 4   episodes  12294 non-null  object \n",
      " 5   rating    12064 non-null  float64\n",
      " 6   members   12294 non-null  int64  \n",
      "dtypes: float64(1), int64(2), object(4)\n",
      "memory usage: 672.5+ KB\n"
     ]
    }
   ],
   "source": [
    "df_anime.info()"
   ]
  },
  {
   "cell_type": "code",
   "execution_count": 5,
   "metadata": {},
   "outputs": [
    {
     "data": {
      "text/plain": [
       "anime_id      0\n",
       "name          0\n",
       "genre        62\n",
       "type         25\n",
       "episodes      0\n",
       "rating      230\n",
       "members       0\n",
       "dtype: int64"
      ]
     },
     "execution_count": 5,
     "metadata": {},
     "output_type": "execute_result"
    }
   ],
   "source": [
    "df_anime.isnull().sum()"
   ]
  },
  {
   "cell_type": "code",
   "execution_count": 6,
   "metadata": {},
   "outputs": [],
   "source": [
    "from sklearn.feature_extraction.text import TfidfVectorizer\n",
    "\n",
    "tf_idf_vec = TfidfVectorizer(min_df= 3, token_pattern= r'\\w{1,}', stop_words= 'english', ngram_range= (1, 3), strip_accents= 'unicode')\n",
    "\n",
    "df_anime.dropna(inplace= True)\n",
    "anime_genres = df_anime['genre'].str.split(',').astype(str)\n",
    "tf_idf_vec_matrix = tf_idf_vec.fit_transform(anime_genres)"
   ]
  },
  {
   "cell_type": "code",
   "execution_count": 7,
   "metadata": {},
   "outputs": [],
   "source": [
    "import re\n",
    "\n",
    "def text_cleaning(text):\n",
    "    text = re.sub(r'&quot;', '', text)\n",
    "    text = re.sub(r'.hack//', '', text)\n",
    "    text = re.sub(r'&#039;', '', text)\n",
    "    text = re.sub(r'A&#039;s', '', text)\n",
    "    text = re.sub(r'I&#039;', 'I\\'', text)\n",
    "    text = re.sub(r'&amp;', 'and', text)\n",
    "    text = re.sub(r'☆', '', text)\n",
    "    return text\n",
    "\n",
    "df_anime['name'] = df_anime['name'].apply(text_cleaning)"
   ]
  },
  {
   "cell_type": "code",
   "execution_count": 8,
   "metadata": {},
   "outputs": [],
   "source": [
    "from sklearn.metrics.pairwise import sigmoid_kernel\n",
    "\n",
    "sigmoid = sigmoid_kernel(tf_idf_vec_matrix)\n",
    "\n",
    "indices = pd.Series(df_anime.index, index= df_anime['name']).drop_duplicates()"
   ]
  },
  {
   "cell_type": "code",
   "execution_count": 9,
   "metadata": {},
   "outputs": [],
   "source": [
    "def recommend(title, sig = sigmoid):\n",
    "    index = indices[title]\n",
    "    sig_score = list(enumerate(sig[index]))\n",
    "    sig_score = sorted(sig_score, key= lambda x: x[1], reverse= True)\n",
    "    anime_indices = [i[0] for i in sig_score[:11]]\n",
    "    return pd.DataFrame({'Anime': df_anime['name'].iloc[anime_indices].values, 'Rating': df_anime['rating'].iloc[anime_indices].values})"
   ]
  },
  {
   "cell_type": "code",
   "execution_count": 14,
   "metadata": {},
   "outputs": [
    {
     "name": "stdout",
     "output_type": "stream",
     "text": [
      "                                          Anime  Rating\n",
      "0                              Sword Art Online    7.83\n",
      "1                           Sword Art Online II    7.35\n",
      "2               Sword Art Online: Extra Edition    7.00\n",
      "3               Sword Art Online II: Debriefing    6.56\n",
      "4                         Ys IV: The Dawn of Ys    6.12\n",
      "5   Bakugan Battle Brawlers: Gundalian Invaders    6.32\n",
      "6     Bakugan Battle Brawlers: Mechtanium Surge    6.29\n",
      "7                           Pokemon Generations    7.21\n",
      "8                                   Log Horizon    8.14\n",
      "9                        Log Horizon 2nd Season    7.66\n",
      "10                                     Overlord    8.04\n"
     ]
    }
   ],
   "source": [
    "try:\n",
    "    print(recommend('Sword Art Online'))\n",
    "except:\n",
    "    print('No recommend is found')"
   ]
  }
 ],
 "metadata": {
  "interpreter": {
   "hash": "3410afedb74081d81603511028deadddc25ba0f01c14e0cb891e2c2473f81884"
  },
  "kernelspec": {
   "display_name": "Python 3.8.5 64-bit",
   "language": "python",
   "name": "python3"
  },
  "language_info": {
   "codemirror_mode": {
    "name": "ipython",
    "version": 3
   },
   "file_extension": ".py",
   "mimetype": "text/x-python",
   "name": "python",
   "nbconvert_exporter": "python",
   "pygments_lexer": "ipython3",
   "version": "3.8.5"
  },
  "orig_nbformat": 4
 },
 "nbformat": 4,
 "nbformat_minor": 2
}
